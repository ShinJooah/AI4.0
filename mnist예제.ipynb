{
  "nbformat": 4,
  "nbformat_minor": 0,
  "metadata": {
    "colab": {
      "name": "mnist예제.ipynb",
      "private_outputs": true,
      "provenance": [],
      "collapsed_sections": [],
      "include_colab_link": true
    },
    "kernelspec": {
      "name": "python3",
      "display_name": "Python 3"
    },
    "language_info": {
      "name": "python"
    },
    "accelerator": "GPU",
    "gpuClass": "standard"
  },
  "cells": [
    {
      "cell_type": "markdown",
      "metadata": {
        "id": "view-in-github",
        "colab_type": "text"
      },
      "source": [
        "<a href=\"https://colab.research.google.com/github/ShinJooah/AI4.0/blob/main/mnist%EC%98%88%EC%A0%9C.ipynb\" target=\"_parent\"><img src=\"https://colab.research.google.com/assets/colab-badge.svg\" alt=\"Open In Colab\"/></a>"
      ]
    },
    {
      "cell_type": "code",
      "metadata": {
        "id": "W-jkBjgtOmFz"
      },
      "source": [
        "import tensorflow as tf\n",
        "import numpy as np\n",
        "from tensorflow import keras\n",
        "\n",
        "mnist = tf.keras.datasets.mnist\n",
        "(x_train, y_train),(x_test, y_test) = mnist.load_data()"
      ],
      "execution_count": null,
      "outputs": []
    },
    {
      "cell_type": "code",
      "metadata": {
        "id": "yfTFk07ROmIU"
      },
      "source": [
        "display(x_train.shape)\n",
        "display(y_train.shape)\n",
        "display(x_test.shape)\n",
        "display(y_test.shape)\n",
        "\n",
        "display(y_test)"
      ],
      "execution_count": null,
      "outputs": []
    },
    {
      "cell_type": "code",
      "metadata": {
        "id": "lGFEFcXkOmLB"
      },
      "source": [
        "import matplotlib.pyplot as plt\n",
        "\n",
        "def show_data(arr):\n",
        "    plt.imshow(arr, cmap=plt.cm.binary)\n",
        "    \n",
        "    reshape_data = arr.reshape(-1, )\n",
        "    for index, data in enumerate(reshape_data):\n",
        "        print('{:3d}'.format(data), end='')\n",
        "        if index % 28 == 27:\n",
        "            print()"
      ],
      "execution_count": null,
      "outputs": []
    },
    {
      "cell_type": "code",
      "metadata": {
        "id": "jlG3H6KiOmPc"
      },
      "source": [
        "reshape_x_train = x_train.reshape(x_train.shape[0], 28, 28, 1)\n",
        "reshape_x_test = x_test.reshape(x_test.shape[0], 28, 28, 1)"
      ],
      "execution_count": null,
      "outputs": []
    },
    {
      "cell_type": "code",
      "metadata": {
        "id": "uZyYV5l1OmWN"
      },
      "source": [
        "import matplotlib.pyplot as plt\n",
        "\n",
        "def show_graph(history_dict):\n",
        "    accuracy = history_dict['acc']\n",
        "    val_accuracy = history_dict['val_acc']\n",
        "    loss = history_dict['loss']\n",
        "    val_loss = history_dict['val_loss']\n",
        "\n",
        "    epochs = range(1, len(loss) + 1)\n",
        "    \n",
        "    plt.figure(figsize=(16, 1))\n",
        "    \n",
        "    plt.subplot(121)\n",
        "    plt.subplots_adjust(top=2)\n",
        "    plt.plot(epochs, accuracy, 'ro', label='Training accuracy')\n",
        "    plt.plot(epochs, val_accuracy, 'r', label='Validation accuracy')\n",
        "    plt.title('Trainging and validation accuracy and loss')\n",
        "    plt.xlabel('Epochs')\n",
        "    plt.ylabel('Accuracy and Loss')\n",
        "\n",
        "    plt.legend(loc='upper center', bbox_to_anchor=(0.5, -0.1),\n",
        "              fancybox=True, shadow=True, ncol=5)\n",
        "#     plt.legend(bbox_to_anchor=(1, -0.1))\n",
        "\n",
        "    plt.subplot(122)\n",
        "    plt.plot(epochs, loss, 'bo', label='Training loss')\n",
        "    plt.plot(epochs, val_loss, 'b', label='Validation loss')\n",
        "    plt.title('Training and validation loss')\n",
        "    plt.xlabel('Epochs')\n",
        "    plt.ylabel('Loss')\n",
        "    plt.legend(loc='upper center', bbox_to_anchor=(0.5, -0.1),\n",
        "          fancybox=True, shadow=True, ncol=5)\n",
        "#     plt.legend(bbox_to_anchor=(1, 0))\n",
        "\n",
        "    plt.show()"
      ],
      "execution_count": null,
      "outputs": []
    },
    {
      "cell_type": "code",
      "metadata": {
        "id": "3meR0ankPIix"
      },
      "source": [
        "from tensorflow.keras.models import Sequential\n",
        "from tensorflow.keras import layers\n",
        "from tensorflow.keras import regularizers\n",
        "\n",
        "model = Sequential()\n",
        "model.add(layers.Conv2D( #특징 추출\n",
        "    input_shape=(28, 28, 1),\n",
        "    filters=32, \n",
        "    kernel_size=(2, 2), \n",
        "    strides=(1, 1), \n",
        "    padding='same',\n",
        "    activation='relu',\n",
        "    kernel_initializer='glorot_normal',\n",
        "    kernel_regularizer=regularizers.l2(0.01),\n",
        "))\n",
        "model.add(layers.MaxPool2D())\n",
        "model.add(layers.Dropout(.5))\n",
        "\n",
        "model.add(layers.Conv2D(\n",
        "    filters=64, \n",
        "    kernel_size=(2, 2), \n",
        "    strides=(1, 1), \n",
        "    padding='same',\n",
        "    activation='relu',\n",
        "    kernel_initializer='glorot_normal',\n",
        "    kernel_regularizer=regularizers.l2(0.01),\n",
        "))\n",
        "model.add(layers.MaxPool2D())\n",
        "model.add(layers.Dropout(.5))\n",
        "\n",
        "model.add(layers.Conv2D(\n",
        "    filters=128, \n",
        "    kernel_size=(2, 2), \n",
        "    strides=(1, 1), \n",
        "    padding='same',\n",
        "    activation='relu',\n",
        "    kernel_initializer='glorot_normal',\n",
        "    kernel_regularizer=regularizers.l2(0.01),\n",
        "))\n",
        "model.add(layers.MaxPool2D())\n",
        "model.add(layers.Dropout(.5))\n",
        "\n",
        "model.add(layers.Conv2D(\n",
        "    filters=256, \n",
        "    kernel_size=(2, 2), \n",
        "    strides=(1, 1), \n",
        "    padding='same',\n",
        "    activation='relu',\n",
        "    kernel_initializer='glorot_normal',\n",
        "    kernel_regularizer=regularizers.l2(0.01),\n",
        "))\n",
        "model.add(layers.MaxPool2D())\n",
        "model.add(layers.Dropout(.5))\n",
        "\n",
        "model.add(layers.Flatten())\n",
        "model.add(layers.Dense(10, activation='softmax', kernel_regularizer=regularizers.l2(0.01),))\n",
        "\n",
        "model.summary()"
      ],
      "execution_count": null,
      "outputs": []
    },
    {
      "cell_type": "code",
      "metadata": {
        "id": "_EJ6f5TIPIlL"
      },
      "source": [
        "opt = keras.optimizers.Adam(learning_rate=0.0005)\n",
        "model.compile(\n",
        "    optimizer=opt,\n",
        "    loss='sparse_categorical_crossentropy',\n",
        "    metrics=['acc']\n",
        ")\n"
      ],
      "execution_count": null,
      "outputs": []
    },
    {
      "cell_type": "code",
      "metadata": {
        "id": "ypbR6QASPInh"
      },
      "source": [
        "history = model.fit(\n",
        "    reshape_x_train,\n",
        "    y_train,\n",
        "    batch_size=200,\n",
        "    epochs=20,\n",
        "    validation_split=.1,\n",
        ")"
      ],
      "execution_count": null,
      "outputs": []
    },
    {
      "cell_type": "code",
      "metadata": {
        "id": "p_T_cBNlPIwE"
      },
      "source": [
        "print(history.history)\n"
      ],
      "execution_count": null,
      "outputs": []
    },
    {
      "cell_type": "code",
      "source": [
        "import numpy as np\n",
        "import matplotlib.pyplot as plt\n",
        "import pandas as pd\n",
        "\n",
        "#x = [1,2,3,4,5,6,7,8,9,10,11,12,13,14,15,16,17,18,19,20]\n",
        "x = [num+1 for num in range(len(history.history['acc']))]\n",
        "y1 = history.history['acc']\n",
        "y2 = history.history['loss']\n",
        "\n",
        "fig, ax1 = plt.subplots()\n",
        "ax1.plot(x, y1, color = 'red', alpha = 0.5)\n",
        "\n",
        "# ax2는 y2에 대한 그래프, twinx로 x축을 공유\n",
        "ax2 = ax1.twinx()\n",
        "ax2.plot(x, y2, color = 'blue', alpha = 0.5)\n",
        "plt.show()\n",
        "\n",
        "\n"
      ],
      "metadata": {
        "id": "kPM48UB-Nh7L"
      },
      "execution_count": null,
      "outputs": []
    },
    {
      "cell_type": "code",
      "source": [
        "def History():\n",
        "  import numpy as np\n",
        "  import matplotlib.pyplot as plt\n",
        "  import pandas as pd\n",
        "\n",
        "  #x = [1,2,3,4,5,6,7,8,9,10,11,12,13,14,15,16,17,18,19,20]\n",
        "  x = [num+1 for num in range(len(history.history['acc']))]\n",
        "  y1 = history.history['acc']\n",
        "  y2 = history.history['loss']\n",
        "\n",
        "  fig, ax1 = plt.subplots()\n",
        "  ax1.plot(x, y1, color = 'red', alpha = 0.5)\n",
        "\n",
        "  # ax2는 y2에 대한 그래프, twinx로 x축을 공유\n",
        "  ax2 = ax1.twinx()\n",
        "  ax2.plot(x, y2, color = 'blue', alpha = 0.5)\n",
        "  plt.show()\n",
        "\n",
        "\n",
        "History()"
      ],
      "metadata": {
        "id": "Qdw7zR6HUD6D"
      },
      "execution_count": null,
      "outputs": []
    },
    {
      "cell_type": "code",
      "metadata": {
        "id": "7--yZLHrPIyL"
      },
      "source": [
        "m = map(lambda x: (x[0], x[1][5:]), history.history.items())\n",
        "not_noise_history = dict(list(m))\n",
        "show_graph(not_noise_history)"
      ],
      "execution_count": null,
      "outputs": []
    },
    {
      "cell_type": "code",
      "metadata": {
        "id": "Rp17ztXvaSSP"
      },
      "source": [
        "model.evaluate(reshape_x_test,y_test)"
      ],
      "execution_count": null,
      "outputs": []
    }
  ]
}