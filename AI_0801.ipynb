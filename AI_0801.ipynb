{
  "nbformat": 4,
  "nbformat_minor": 0,
  "metadata": {
    "colab": {
      "name": "AI_0801.ipynb",
      "provenance": [],
      "collapsed_sections": [],
      "authorship_tag": "ABX9TyNJVTUPfRs+npZMVUH1Ajcr",
      "include_colab_link": true
    },
    "kernelspec": {
      "name": "python3",
      "display_name": "Python 3"
    },
    "language_info": {
      "name": "python"
    }
  },
  "cells": [
    {
      "cell_type": "markdown",
      "metadata": {
        "id": "view-in-github",
        "colab_type": "text"
      },
      "source": [
        "<a href=\"https://colab.research.google.com/github/ShinJooah/AI4.0/blob/main/AI_0801.ipynb\" target=\"_parent\"><img src=\"https://colab.research.google.com/assets/colab-badge.svg\" alt=\"Open In Colab\"/></a>"
      ]
    },
    {
      "cell_type": "code",
      "execution_count": null,
      "metadata": {
        "colab": {
          "base_uri": "https://localhost:8080/"
        },
        "id": "KKR_-0PD7tr3",
        "outputId": "ff65d3b2-f549-4ec1-adec-7632bab9df82"
      },
      "outputs": [
        {
          "output_type": "execute_result",
          "data": {
            "text/plain": [
              "300"
            ]
          },
          "metadata": {},
          "execution_count": 4
        }
      ],
      "source": [
        "class Rectangle(object):\n",
        "  def __init__(self,x,y):\n",
        "    self.x = x\n",
        "    self.y = y\n",
        "\n",
        "  def area(self):\n",
        "    return self.x *self.y\n",
        "\n",
        "a1 = Rectangle(10,30)\n",
        "a1.area()"
      ]
    },
    {
      "cell_type": "code",
      "source": [
        "class person():\n",
        "  def __init__(self,name,age,blood_type):\n",
        "    self.name = name\n",
        "    self.age = age\n",
        "    self.blood_type =blood_type\n",
        "\n",
        "  def info(self):\n",
        "    print(f\"++{self.name}의 정보++\\n  나이 : {self.age}\\n  혈액형 : {self.blood_type}\")\n",
        "    print(\"=============\")\n",
        "\n",
        "jua = person('jua',18,'B')\n",
        "jua.info()\n",
        "\n",
        "Minji = person(\"Minji\",20,'B')\n",
        "Minji.info()\n",
        "\n",
        "seo_in = person('seo_in',18,'B')\n",
        "seo_in.info()\n",
        "\n",
        "yojin = person('yojin',18,'A')\n",
        "yojin.info()\n",
        "\n",
        "SEUNG_BIN = person('SEUNG_BIN',20,'A')\n",
        "SEUNG_BIN.info()\n"
      ],
      "metadata": {
        "colab": {
          "base_uri": "https://localhost:8080/"
        },
        "id": "3gXNdgv69pWb",
        "outputId": "60a70c43-2b58-4ec5-be24-1eacd882b02e"
      },
      "execution_count": null,
      "outputs": [
        {
          "output_type": "stream",
          "name": "stdout",
          "text": [
            "++jua의 정보++\n",
            "  나이 : 18\n",
            "  혈액형 : B\n",
            "=============\n",
            "++Minji의 정보++\n",
            "  나이 : 20\n",
            "  혈액형 : B\n",
            "=============\n",
            "++seo_in의 정보++\n",
            "  나이 : 18\n",
            "  혈액형 : B\n",
            "=============\n",
            "++yojin의 정보++\n",
            "  나이 : 18\n",
            "  혈액형 : A\n",
            "=============\n",
            "++SEUNG_BIN의 정보++\n",
            "  나이 : 20\n",
            "  혈액형 : A\n",
            "=============\n"
          ]
        }
      ]
    },
    {
      "cell_type": "code",
      "source": [
        "class Car():\n",
        "  def __init__(self,fuel,max):\n",
        "    self.power = False\n",
        "    self.crash = 0\n",
        "    self.fuel = fuel\n",
        "    self.max = max\n",
        "\n",
        "    print(\"========================\")\n",
        "    print(f\"현재 연료량: {self.fuel}\")\n",
        "    \n",
        "\n",
        "  def turn_on(self):\n",
        "    if self.power == False :\n",
        "      self.power = True\n",
        "      print(\"========================\")\n",
        "      print(f\"시동걸림\")\n",
        "    else:\n",
        "      self.power = False\n",
        "      print(\"========================\")\n",
        "      print(f\"시동꺼짐\")\n",
        "  \n",
        "  def refueling(self):\n",
        "    print(\"========================\")\n",
        "    print(f\"현재 연료량 :{self.fuel}\")\n",
        "    print(f\"충전 필요량 : {self.max - self.fuel}\")\n",
        "    print(\"========================\")\n",
        "    while(True):\n",
        "      n = int(input(\"얼마나 충전하시겠습니까?\"))\n",
        "      if self.fuel + n > self.max:\n",
        "        print(\"너무 많다.\")\n",
        "\n",
        "      self.fuel += n\n",
        "      print(f\"충전되었습니다.\\n현재 충전량{self.fuel}\")\n",
        "      break\n",
        "\n",
        "  def crashed(self):\n",
        "    print(\"========================\")\n",
        "    print(\"당신은 사고가 났습니다. 자동차 max연료량이 감소합니다.\")\n",
        "    self.crash +=1\n",
        "    self.max = self.max - 5\n",
        "    print(f\"현재 max량 {self.max} 입니다.\")\n",
        "\n",
        "\n",
        "  def drive(self,km):\n",
        "    \n",
        "    if self.power == False:\n",
        "      print(\"========================\")\n",
        "      print(\"시동 걸어라\")\n",
        "    else:\n",
        "      self.km = km\n",
        "      x = 2\n",
        "      if self.km*x >self.fuel:\n",
        "        print(\"========================\")\n",
        "        print(\"너무 멀리왔어요\")\n",
        "      else:\n",
        "        print(\"========================\")\n",
        "        print(f\"km당 연료량은 {self.km*x} 입니다.\")\n",
        "        self.fuel = self.fuel - self.km * x\n",
        "        print(f\"남은 연료량은 {self.fuel} 입니다.\")\n",
        "        print(\"좋은시간\")\n",
        "\n",
        "\n",
        "mine = Car(20,45)\n",
        "mine.turn_on()\n",
        "mine.refueling()\n",
        "mine.drive(10)\n",
        "mine.crashed()"
      ],
      "metadata": {
        "colab": {
          "base_uri": "https://localhost:8080/"
        },
        "id": "aUCluPTOFUDD",
        "outputId": "b1ed87cc-a163-4d1f-8733-076f4be705da"
      },
      "execution_count": null,
      "outputs": [
        {
          "output_type": "stream",
          "name": "stdout",
          "text": [
            "========================\n",
            "현재 연료량: 20\n",
            "========================\n",
            "시동걸림\n",
            "========================\n",
            "현재 연료량 :20\n",
            "충전 필요량 : 25\n",
            "========================\n",
            "얼마나 충전하시겠습니까?20\n",
            "충전되었습니다.\n",
            "현재 충전량40\n",
            "========================\n",
            "km당 연료량은 20 입니다.\n",
            "남은 연료량은 20 입니다.\n",
            "좋은시간\n",
            "========================\n",
            "당신은 사고가 났습니다. 자동차 max연료량이 감소합니다.\n",
            "현재 max량 40 입니다.\n"
          ]
        }
      ]
    }
  ]
}